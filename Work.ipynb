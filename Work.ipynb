{
 "cells": [
  {
   "cell_type": "code",
   "execution_count": 2,
   "metadata": {},
   "outputs": [],
   "source": [
    "import pandas as pd\n",
    "import pandasql"
   ]
  },
  {
   "cell_type": "code",
   "execution_count": 3,
   "metadata": {},
   "outputs": [
    {
     "name": "stdout",
     "output_type": "stream",
     "text": [
      "Requirement already satisfied: oauth2client in c:\\users\\personal\\appdata\\local\\programs\\python\\python39\\lib\\site-packages (4.1.3)\n",
      "Requirement already satisfied: gspread in c:\\users\\personal\\appdata\\local\\programs\\python\\python39\\lib\\site-packages (4.0.1)\n",
      "Requirement already satisfied: google-auth>=1.12.0 in c:\\users\\personal\\appdata\\local\\programs\\python\\python39\\lib\\site-packages (from gspread) (1.32.1)\n",
      "Requirement already satisfied: google-auth-oauthlib>=0.4.1 in c:\\users\\personal\\appdata\\local\\programs\\python\\python39\\lib\\site-packages (from gspread) (0.4.4)\n",
      "Requirement already satisfied: httplib2>=0.9.1 in c:\\users\\personal\\appdata\\local\\programs\\python\\python39\\lib\\site-packages (from oauth2client) (0.19.1)\n",
      "Requirement already satisfied: rsa>=3.1.4 in c:\\users\\personal\\appdata\\local\\programs\\python\\python39\\lib\\site-packages (from oauth2client) (4.7.2)\n",
      "Requirement already satisfied: six>=1.6.1 in c:\\users\\personal\\appdata\\local\\programs\\python\\python39\\lib\\site-packages (from oauth2client) (1.15.0)\n",
      "Requirement already satisfied: pyasn1>=0.1.7 in c:\\users\\personal\\appdata\\local\\programs\\python\\python39\\lib\\site-packages (from oauth2client) (0.4.8)\n",
      "Requirement already satisfied: pyasn1-modules>=0.0.5 in c:\\users\\personal\\appdata\\local\\programs\\python\\python39\\lib\\site-packages (from oauth2client) (0.2.8)\n",
      "Requirement already satisfied: six>=1.6.1 in c:\\users\\personal\\appdata\\local\\programs\\python\\python39\\lib\\site-packages (from oauth2client) (1.15.0)\n",
      "Requirement already satisfied: pyasn1-modules>=0.0.5 in c:\\users\\personal\\appdata\\local\\programs\\python\\python39\\lib\\site-packages (from oauth2client) (0.2.8)\n",
      "Requirement already satisfied: setuptools>=40.3.0 in c:\\users\\personal\\appdata\\local\\programs\\python\\python39\\lib\\site-packages (from google-auth>=1.12.0->gspread) (49.2.1)\n",
      "Requirement already satisfied: cachetools<5.0,>=2.0.0 in c:\\users\\personal\\appdata\\local\\programs\\python\\python39\\lib\\site-packages (from google-auth>=1.12.0->gspread) (4.2.2)\n",
      "Requirement already satisfied: rsa>=3.1.4 in c:\\users\\personal\\appdata\\local\\programs\\python\\python39\\lib\\site-packages (from oauth2client) (4.7.2)\n",
      "Requirement already satisfied: google-auth>=1.12.0 in c:\\users\\personal\\appdata\\local\\programs\\python\\python39\\lib\\site-packages (from gspread) (1.32.1)\n",
      "Requirement already satisfied: requests-oauthlib>=0.7.0 in c:\\users\\personal\\appdata\\local\\programs\\python\\python39\\lib\\site-packages (from google-auth-oauthlib>=0.4.1->gspread) (1.3.0)\n",
      "Requirement already satisfied: pyparsing<3,>=2.4.2 in c:\\users\\personal\\appdata\\local\\programs\\python\\python39\\lib\\site-packages (from httplib2>=0.9.1->oauth2client) (2.4.7)\n",
      "Requirement already satisfied: pyasn1>=0.1.7 in c:\\users\\personal\\appdata\\local\\programs\\python\\python39\\lib\\site-packages (from oauth2client) (0.4.8)\n",
      "Requirement already satisfied: requests>=2.0.0 in c:\\users\\personal\\appdata\\local\\programs\\python\\python39\\lib\\site-packages (from requests-oauthlib>=0.7.0->google-auth-oauthlib>=0.4.1->gspread) (2.25.0)\n",
      "Requirement already satisfied: oauthlib>=3.0.0 in c:\\users\\personal\\appdata\\local\\programs\\python\\python39\\lib\\site-packages (from requests-oauthlib>=0.7.0->google-auth-oauthlib>=0.4.1->gspread) (3.1.1)\n",
      "Requirement already satisfied: idna<3,>=2.5 in c:\\users\\personal\\appdata\\local\\programs\\python\\python39\\lib\\site-packages (from requests>=2.0.0->requests-oauthlib>=0.7.0->google-auth-oauthlib>=0.4.1->gspread) (2.10)\n",
      "Requirement already satisfied: certifi>=2017.4.17 in c:\\users\\personal\\appdata\\local\\programs\\python\\python39\\lib\\site-packages (from requests>=2.0.0->requests-oauthlib>=0.7.0->google-auth-oauthlib>=0.4.1->gspread) (2020.6.20)\n",
      "Requirement already satisfied: urllib3<1.27,>=1.21.1 in c:\\users\\personal\\appdata\\local\\programs\\python\\python39\\lib\\site-packages (from requests>=2.0.0->requests-oauthlib>=0.7.0->google-auth-oauthlib>=0.4.1->gspread) (1.26.2)\n",
      "Requirement already satisfied: chardet<4,>=3.0.2 in c:\\users\\personal\\appdata\\local\\programs\\python\\python39\\lib\\site-packages (from requests>=2.0.0->requests-oauthlib>=0.7.0->google-auth-oauthlib>=0.4.1->gspread) (3.0.4)\n",
      "Requirement already satisfied: pyasn1>=0.1.7 in c:\\users\\personal\\appdata\\local\\programs\\python\\python39\\lib\\site-packages (from oauth2client) (0.4.8)\n",
      "Note: you may need to restart the kernel to use updated packages.\n"
     ]
    },
    {
     "name": "stderr",
     "output_type": "stream",
     "text": [
      "WARNING: You are using pip version 20.3.1; however, version 21.2.4 is available.\n",
      "You should consider upgrading via the 'c:\\users\\personal\\appdata\\local\\programs\\python\\python39\\python.exe -m pip install --upgrade pip' command.\n"
     ]
    }
   ],
   "source": [
    "pip install oauth2client gspread"
   ]
  },
  {
   "cell_type": "code",
   "execution_count": 75,
   "metadata": {},
   "outputs": [],
   "source": [
    "url = 'https://docs.google.com/spreadsheets/d/11r8kAoHJPn1HkanR_CqynzqbQIJ1dn1hI-USnTWCTLg/edit?usp=sharing'"
   ]
  },
  {
   "cell_type": "code",
   "execution_count": 76,
   "metadata": {},
   "outputs": [],
   "source": [
    "from oauth2client.service_account import ServiceAccountCredentials\n",
    "import gspread\n",
    "\n",
    "scope = ['https://www.googleapis.com/auth/spreadsheets']\n",
    "credentials = ServiceAccountCredentials.from_json_keyfile_name('light-field-305907-45186846c91a.json', scope)\n",
    "client = gspread.authorize(credentials)\n",
    "sheet = client.open_by_url(url)\n",
    "worksheet = sheet.get_worksheet(0)\n",
    "results = worksheet.get_all_records()"
   ]
  },
  {
   "cell_type": "code",
   "execution_count": 77,
   "metadata": {},
   "outputs": [],
   "source": [
    "result_df = pd.DataFrame(results)"
   ]
  },
  {
   "cell_type": "code",
   "execution_count": 78,
   "metadata": {},
   "outputs": [
    {
     "data": {
      "text/plain": [
       "Index(['ก่อนอื่น.. โปรดระบุเพศของคุณ', 'ช่วงอายุของคุณ', 'ระดับการศึกษาของคุณ',\n",
       "       'กลุ่มอาชีพของคุณ', 'จังหวัดคุณที่อาศัยอยู่',\n",
       "       'คุณได้รับผลกระทบจากวิกฤติ COVID-19 ในด้านใดมากที่สุด?',\n",
       "       'คุณอยากให้เกิดการเปลี่ยนแปลงในสังคมไทยหลังวิกฤต COVID-19 ในด้านใดมากที่สุด?',\n",
       "       'อยากเห็นประเทศไทยหลังวิกฤต COVID-19 ในด้านต่าง ๆ เป็นอย่างไรบ้าง? (กรุณาเลือกด้านที่สนใจ)',\n",
       "       'ให้คะแนนสิ่งที่ประเทศไทยเป็นอยู่เดิมในด้าน*การเมือง* (เต็ม 10 คะแนน)',\n",
       "       'ระบุสิ่งที่อยากเห็นประเทศไทยเปลี่ยนไปหรือปรับปรุงหลังวิกฤต COVID-19 ในด้าน*การเมือง*',\n",
       "       'ให้คะแนนสิ่งที่ประเทศไทยเป็นอยู่เดิมในด้าน*เศรษฐกิจ / ปากท้อง* (เต็ม 10 คะแนน)',\n",
       "       'ระบุสิ่งที่อยากเห็นประเทศไทยเปลี่ยนไปหรือปรับปรุงหลังวิกฤต COVID-19 ในด้าน*เศรษฐกิจ / ปากท้อง*',\n",
       "       'ให้คะแนนสิ่งที่ประเทศไทยเป็นอยู่เดิมในด้าน*สิ่งแวดล้อม* (เต็ม 10 คะแนน)',\n",
       "       'ระบุสิ่งที่อยากเห็นประเทศไทยเปลี่ยนไปหรือปรับปรุงหลังวิกฤต COVID-19 ในด้าน*สิ่งแวดล้อม*',\n",
       "       'ให้คะแนนสิ่งที่ประเทศไทยเป็นอยู่เดิมในด้าน*การศึกษา* (เต็ม 10 คะแนน)',\n",
       "       'ระบุสิ่งที่อยากเห็นประเทศไทยเปลี่ยนไปหรือปรับปรุงหลังวิกฤต COVID-19 ในด้าน*การศึกษา*',\n",
       "       'ให้คะแนนสิ่งที่ประเทศไทยเป็นอยู่เดิมในด้าน*สุขภาพ* (เต็ม 10 คะแนน)',\n",
       "       'ระบุสิ่งที่อยากเห็นประเทศไทยเปลี่ยนไปหรือปรับปรุงหลังวิกฤต COVID-19 ในด้าน*สุขภาพ*',\n",
       "       'ให้คะแนนสิ่งที่ประเทศไทยเป็นอยู่เดิมในด้าน*วิถีชีวิต* (เต็ม 10 คะแนน)',\n",
       "       'ระบุสิ่งที่อยากเห็นประเทศไทยเปลี่ยนไปหรือปรับปรุงหลังวิกฤต COVID-19 ในด้าน*วิถีชีวิต*',\n",
       "       'ให้คะแนนสิ่งที่ประเทศไทยเป็นอยู่เดิมในด้านอื่น ๆ (เต็ม 10 คะแนน)',\n",
       "       'ระบุสิ่งที่อยากเห็นประเทศไทยเปลี่ยนไปหรือปรับปรุงหลังวิกฤต COVID-19 ในด้าน*อื่น ๆ* (โปรดระบุ)',\n",
       "       'คุณต้องการแสดงความคิดเห็นในด้านอื่น ๆ เพิ่มเติมอีกหรือไม่?\\n*หากต้องการ โปรดเลือกด้านที่คุณสนใจเพิ่มเติม* \\n*หากไม่ต้องการ โปรดตอบข้อไม่ต้องการ*',\n",
       "       'คุณคิดว่าสังคมไทยควรมีกติกาสังคมแบบไหนที่จะทำให้เราอยู่ร่วมกันได้ หลังจากผ่านพ้นวิกฤติ COVID-19?'],\n",
       "      dtype='object')"
      ]
     },
     "execution_count": 78,
     "metadata": {},
     "output_type": "execute_result"
    }
   ],
   "source": [
    "result_df.columns"
   ]
  },
  {
   "cell_type": "code",
   "execution_count": 115,
   "metadata": {},
   "outputs": [],
   "source": [
    "q1 = 'sum([ให้คะแนนสิ่งที่ประเทศไทยเป็นอยู่เดิมในด้าน*การเมือง* (เต็ม 10 คะแนน)])/count(*) as q1'\n",
    "q2 = 'sum([ให้คะแนนสิ่งที่ประเทศไทยเป็นอยู่เดิมในด้าน*เศรษฐกิจ / ปากท้อง* (เต็ม 10 คะแนน)])/count(*) as q2'\n",
    "q3 = 'sum([ให้คะแนนสิ่งที่ประเทศไทยเป็นอยู่เดิมในด้าน*สิ่งแวดล้อม* (เต็ม 10 คะแนน)])/count(*) as q3'\n",
    "q4 = 'sum([ให้คะแนนสิ่งที่ประเทศไทยเป็นอยู่เดิมในด้าน*การศึกษา* (เต็ม 10 คะแนน)])/count(*) as q4'\n",
    "q5 = 'sum([ให้คะแนนสิ่งที่ประเทศไทยเป็นอยู่เดิมในด้าน*สุขภาพ* (เต็ม 10 คะแนน)])/count(*) as q5'\n",
    "q6 = 'sum([ให้คะแนนสิ่งที่ประเทศไทยเป็นอยู่เดิมในด้าน*วิถีชีวิต* (เต็ม 10 คะแนน)])/count(*) as q6'\n",
    "q7 = 'sum([ให้คะแนนสิ่งที่ประเทศไทยเป็นอยู่เดิมในด้านอื่น ๆ (เต็ม 10 คะแนน)])/count(*) as q7'"
   ]
  },
  {
   "cell_type": "code",
   "execution_count": 116,
   "metadata": {},
   "outputs": [],
   "source": [
    "sql = \"select [คุณได้รับผลกระทบจากวิกฤติ COVID-19 ในด้านใดมากที่สุด?], %s, %s, %s, %s, %s, %s, %s from result_df \" % (q1, q2, q3, q4, q5, q6, q7)"
   ]
  },
  {
   "cell_type": "code",
   "execution_count": 117,
   "metadata": {},
   "outputs": [
    {
     "data": {
      "text/html": [
       "<div>\n",
       "<style scoped>\n",
       "    .dataframe tbody tr th:only-of-type {\n",
       "        vertical-align: middle;\n",
       "    }\n",
       "\n",
       "    .dataframe tbody tr th {\n",
       "        vertical-align: top;\n",
       "    }\n",
       "\n",
       "    .dataframe thead th {\n",
       "        text-align: right;\n",
       "    }\n",
       "</style>\n",
       "<table border=\"1\" class=\"dataframe\">\n",
       "  <thead>\n",
       "    <tr style=\"text-align: right;\">\n",
       "      <th></th>\n",
       "      <th>คุณได้รับผลกระทบจากวิกฤติ COVID-19 ในด้านใดมากที่สุด?</th>\n",
       "      <th>q1</th>\n",
       "      <th>q2</th>\n",
       "      <th>q3</th>\n",
       "      <th>q4</th>\n",
       "      <th>q5</th>\n",
       "      <th>q6</th>\n",
       "      <th>q7</th>\n",
       "    </tr>\n",
       "  </thead>\n",
       "  <tbody>\n",
       "    <tr>\n",
       "      <th>0</th>\n",
       "      <td></td>\n",
       "      <td>0.408333</td>\n",
       "      <td>0.675</td>\n",
       "      <td>0.2375</td>\n",
       "      <td>0.416667</td>\n",
       "      <td>0.308333</td>\n",
       "      <td>0.279167</td>\n",
       "      <td>0.0</td>\n",
       "    </tr>\n",
       "  </tbody>\n",
       "</table>\n",
       "</div>"
      ],
      "text/plain": [
       "  คุณได้รับผลกระทบจากวิกฤติ COVID-19 ในด้านใดมากที่สุด?        q1     q2  \\\n",
       "0                                                        0.408333  0.675   \n",
       "\n",
       "       q3        q4        q5        q6   q7  \n",
       "0  0.2375  0.416667  0.308333  0.279167  0.0  "
      ]
     },
     "execution_count": 117,
     "metadata": {},
     "output_type": "execute_result"
    }
   ],
   "source": [
    "sum_report =  pandasql.sqldf(sql)\n",
    "\n",
    "sum_report.head(20)"
   ]
  },
  {
   "cell_type": "code",
   "execution_count": 118,
   "metadata": {},
   "outputs": [],
   "source": [
    "sum_report['sum'] = sum_report.sum(axis=1)"
   ]
  },
  {
   "cell_type": "code",
   "execution_count": 119,
   "metadata": {},
   "outputs": [
    {
     "data": {
      "text/html": [
       "<div>\n",
       "<style scoped>\n",
       "    .dataframe tbody tr th:only-of-type {\n",
       "        vertical-align: middle;\n",
       "    }\n",
       "\n",
       "    .dataframe tbody tr th {\n",
       "        vertical-align: top;\n",
       "    }\n",
       "\n",
       "    .dataframe thead th {\n",
       "        text-align: right;\n",
       "    }\n",
       "</style>\n",
       "<table border=\"1\" class=\"dataframe\">\n",
       "  <thead>\n",
       "    <tr style=\"text-align: right;\">\n",
       "      <th></th>\n",
       "      <th>คุณได้รับผลกระทบจากวิกฤติ COVID-19 ในด้านใดมากที่สุด?</th>\n",
       "      <th>q1</th>\n",
       "      <th>q2</th>\n",
       "      <th>q3</th>\n",
       "      <th>q4</th>\n",
       "      <th>q5</th>\n",
       "      <th>q6</th>\n",
       "      <th>q7</th>\n",
       "      <th>sum</th>\n",
       "    </tr>\n",
       "  </thead>\n",
       "  <tbody>\n",
       "    <tr>\n",
       "      <th>0</th>\n",
       "      <td></td>\n",
       "      <td>0.408333</td>\n",
       "      <td>0.675</td>\n",
       "      <td>0.2375</td>\n",
       "      <td>0.416667</td>\n",
       "      <td>0.308333</td>\n",
       "      <td>0.279167</td>\n",
       "      <td>0.0</td>\n",
       "      <td>2.325</td>\n",
       "    </tr>\n",
       "  </tbody>\n",
       "</table>\n",
       "</div>"
      ],
      "text/plain": [
       "  คุณได้รับผลกระทบจากวิกฤติ COVID-19 ในด้านใดมากที่สุด?        q1     q2  \\\n",
       "0                                                        0.408333  0.675   \n",
       "\n",
       "       q3        q4        q5        q6   q7    sum  \n",
       "0  0.2375  0.416667  0.308333  0.279167  0.0  2.325  "
      ]
     },
     "execution_count": 119,
     "metadata": {},
     "output_type": "execute_result"
    }
   ],
   "source": [
    "sum_report.head(20)"
   ]
  },
  {
   "cell_type": "code",
   "execution_count": 120,
   "metadata": {},
   "outputs": [],
   "source": [
    "qdf.to_csv('score.csv', encoding='utf8', index=False)"
   ]
  },
  {
   "cell_type": "code",
   "execution_count": null,
   "metadata": {},
   "outputs": [],
   "source": []
  }
 ],
 "metadata": {
  "kernelspec": {
   "display_name": "Python 3",
   "language": "python",
   "name": "python3"
  },
  "language_info": {
   "codemirror_mode": {
    "name": "ipython",
    "version": 3
   },
   "file_extension": ".py",
   "mimetype": "text/x-python",
   "name": "python",
   "nbconvert_exporter": "python",
   "pygments_lexer": "ipython3",
   "version": "3.9.0"
  }
 },
 "nbformat": 4,
 "nbformat_minor": 4
}
