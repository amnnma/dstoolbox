{
 "cells": [
  {
   "cell_type": "code",
   "execution_count": 1,
   "metadata": {},
   "outputs": [],
   "source": [
    "import pandas as pd\n",
    "import pandasql\n",
    "url = 'https://docs.google.com/spreadsheets/d/1k4z-q_DRc3chyf1jYqOCV4UfGGiRgC6FJ4K1e_qZUZ8/edit?usp=sharing'\n",
    "from oauth2client.service_account import ServiceAccountCredentials\n",
    "import gspread\n",
    "\n",
    "scope = ['https://www.googleapis.com/auth/spreadsheets']\n",
    "credentials = ServiceAccountCredentials.from_json_keyfile_name('light-field-305907-45186846c91a.json', scope)\n",
    "client = gspread.authorize(credentials)\n",
    "sheet = client.open_by_url(url)\n",
    "worksheet = sheet.get_worksheet(0)\n",
    "results = worksheet.get_all_records()"
   ]
  },
  {
   "cell_type": "code",
   "execution_count": 2,
   "metadata": {},
   "outputs": [],
   "source": [
    "result_df = pd.DataFrame(results)"
   ]
  },
  {
   "cell_type": "code",
   "execution_count": 3,
   "metadata": {},
   "outputs": [
    {
     "data": {
      "text/plain": [
       "Index(['ประทับเวลา', 'ชื่อทีมที่รับการประเมิน',\n",
       "       'ความสมเหตุสมผล ของคำตอบที่เพื่อน comment',\n",
       "       'การประเมินข้อจำกัด หรือความเสี่ยง ที่อาจทำให้ผลิตภัณฑ์ไม่สามารถใช้งานได้',\n",
       "       'ความเหมาะสมของการหาข้อมูลลักษณะของรายได้',\n",
       "       'ความเหมาะสมของการหาข้อมูลคู่แข่งของผลิตภัณฑ์', 'ข้อเสนอแนะเพิ่มเติม',\n",
       "       'ให้ความคิดเห็นโดยทีม......'],\n",
       "      dtype='object')"
      ]
     },
     "execution_count": 3,
     "metadata": {},
     "output_type": "execute_result"
    }
   ],
   "source": [
    "result_df.columns"
   ]
  },
  {
   "cell_type": "code",
   "execution_count": 6,
   "metadata": {},
   "outputs": [],
   "source": [
    "result_df.loc[result_df.ให้ความคิดเห็นโดยทีม == 'อะหรือ..อะหรือ', 'ให้ความคิดเห็นโดยทีม'] = 'อะหรือ อะหรือ'\n",
    "result_df.loc[result_df.ให้ความคิดเห็นโดยทีม == 'อะหรืออะหรือ', 'ให้ความคิดเห็นโดยทีม'] = 'อะหรือ อะหรือ'\n",
    "result_df.loc[result_df.ให้ความคิดเห็นโดยทีม == 'โรตี ไข่ดาว', 'ให้ความคิดเห็นโดยทีม'] = 'โรตีไข่ดาว'"
   ]
  },
  {
   "cell_type": "code",
   "execution_count": 7,
   "metadata": {},
   "outputs": [
    {
     "data": {
      "text/plain": [
       "['ประทับเวลา',\n",
       " 'ชื่อทีมที่รับการประเมิน',\n",
       " 'ความสมเหตุสมผล ของคำตอบที่เพื่อน comment',\n",
       " 'การประเมินข้อจำกัด หรือความเสี่ยง ที่อาจทำให้ผลิตภัณฑ์ไม่สามารถใช้งานได้',\n",
       " 'ความเหมาะสมของการหาข้อมูลลักษณะของรายได้',\n",
       " 'ความเหมาะสมของการหาข้อมูลคู่แข่งของผลิตภัณฑ์',\n",
       " 'ข้อเสนอแนะเพิ่มเติม',\n",
       " 'ให้ความคิดเห็นโดยทีม......',\n",
       " 'ให้ความคิดเห็นโดยทีม']"
      ]
     },
     "execution_count": 7,
     "metadata": {},
     "output_type": "execute_result"
    }
   ],
   "source": [
    "result_df.columns.to_list()"
   ]
  },
  {
   "cell_type": "code",
   "execution_count": 8,
   "metadata": {},
   "outputs": [],
   "source": [
    "column_name = result_df.columns.to_list()"
   ]
  },
  {
   "cell_type": "code",
   "execution_count": 9,
   "metadata": {},
   "outputs": [],
   "source": [
    "result_df.to_csv('result.csv', encoding='utf8', columns = column_name, index=False)"
   ]
  },
  {
   "cell_type": "code",
   "execution_count": 10,
   "metadata": {},
   "outputs": [],
   "source": [
    "q1 = 'sum([ความสมเหตุสมผล ของคำตอบที่เพื่อน comment])/count(*) as q1'\n",
    "q2 = 'sum([การประเมินข้อจำกัด หรือความเสี่ยง ที่อาจทำให้ผลิตภัณฑ์ไม่สามารถใช้งานได้])/count(*) as q2'\n",
    "q3 = 'sum([ความเหมาะสมของการหาข้อมูลลักษณะของรายได้])/count(*) as q3'\n",
    "q4 = 'sum([ความเหมาะสมของการหาข้อมูลคู่แข่งของผลิตภัณฑ์])/count(*) as q4'"
   ]
  },
  {
   "cell_type": "code",
   "execution_count": 11,
   "metadata": {},
   "outputs": [],
   "source": [
    "sql = \"select ชื่อทีมที่รับการประเมิน, %s, %s, %s, %s from result_df group by ชื่อทีมที่รับการประเมิน\" % (q1, q2, q3, q4)"
   ]
  },
  {
   "cell_type": "code",
   "execution_count": 12,
   "metadata": {},
   "outputs": [
    {
     "data": {
      "text/plain": [
       "'select ชื่อทีมที่รับการประเมิน, sum([ความสมเหตุสมผล ของคำตอบที่เพื่อน comment])/count(*) as q1, sum([การประเมินข้อจำกัด หรือความเสี่ยง ที่อาจทำให้ผลิตภัณฑ์ไม่สามารถใช้งานได้])/count(*) as q2, sum([ความเหมาะสมของการหาข้อมูลลักษณะของรายได้])/count(*) as q3, sum([ความเหมาะสมของการหาข้อมูลคู่แข่งของผลิตภัณฑ์])/count(*) as q4 from result_df group by ชื่อทีมที่รับการประเมิน'"
      ]
     },
     "execution_count": 12,
     "metadata": {},
     "output_type": "execute_result"
    }
   ],
   "source": [
    "sql"
   ]
  },
  {
   "cell_type": "code",
   "execution_count": 13,
   "metadata": {},
   "outputs": [
    {
     "data": {
      "text/html": [
       "<div>\n",
       "<style scoped>\n",
       "    .dataframe tbody tr th:only-of-type {\n",
       "        vertical-align: middle;\n",
       "    }\n",
       "\n",
       "    .dataframe tbody tr th {\n",
       "        vertical-align: top;\n",
       "    }\n",
       "\n",
       "    .dataframe thead th {\n",
       "        text-align: right;\n",
       "    }\n",
       "</style>\n",
       "<table border=\"1\" class=\"dataframe\">\n",
       "  <thead>\n",
       "    <tr style=\"text-align: right;\">\n",
       "      <th></th>\n",
       "      <th>ชื่อทีมที่รับการประเมิน</th>\n",
       "      <th>q1</th>\n",
       "      <th>q2</th>\n",
       "      <th>q3</th>\n",
       "      <th>q4</th>\n",
       "    </tr>\n",
       "  </thead>\n",
       "  <tbody>\n",
       "    <tr>\n",
       "      <th>0</th>\n",
       "      <td>SU Wake Up</td>\n",
       "      <td>7</td>\n",
       "      <td>7</td>\n",
       "      <td>7</td>\n",
       "      <td>7</td>\n",
       "    </tr>\n",
       "    <tr>\n",
       "      <th>1</th>\n",
       "      <td>We Bear Bear</td>\n",
       "      <td>6</td>\n",
       "      <td>6</td>\n",
       "      <td>7</td>\n",
       "      <td>7</td>\n",
       "    </tr>\n",
       "    <tr>\n",
       "      <th>2</th>\n",
       "      <td>ข้าวเหนียวมะม่วง</td>\n",
       "      <td>5</td>\n",
       "      <td>5</td>\n",
       "      <td>6</td>\n",
       "      <td>6</td>\n",
       "    </tr>\n",
       "    <tr>\n",
       "      <th>3</th>\n",
       "      <td>ปังปุริเย่</td>\n",
       "      <td>6</td>\n",
       "      <td>6</td>\n",
       "      <td>6</td>\n",
       "      <td>5</td>\n",
       "    </tr>\n",
       "    <tr>\n",
       "      <th>4</th>\n",
       "      <td>ป่งป๊ง</td>\n",
       "      <td>6</td>\n",
       "      <td>6</td>\n",
       "      <td>6</td>\n",
       "      <td>6</td>\n",
       "    </tr>\n",
       "    <tr>\n",
       "      <th>5</th>\n",
       "      <td>ศิลปะยืนยาวเวลานอนสั้น</td>\n",
       "      <td>5</td>\n",
       "      <td>7</td>\n",
       "      <td>7</td>\n",
       "      <td>7</td>\n",
       "    </tr>\n",
       "    <tr>\n",
       "      <th>6</th>\n",
       "      <td>อะหรือ อะหรือ</td>\n",
       "      <td>7</td>\n",
       "      <td>6</td>\n",
       "      <td>6</td>\n",
       "      <td>6</td>\n",
       "    </tr>\n",
       "    <tr>\n",
       "      <th>7</th>\n",
       "      <td>แม่หนูกกลัวโดเรม่อน</td>\n",
       "      <td>5</td>\n",
       "      <td>7</td>\n",
       "      <td>7</td>\n",
       "      <td>7</td>\n",
       "    </tr>\n",
       "    <tr>\n",
       "      <th>8</th>\n",
       "      <td>โรตีไข่ดาว</td>\n",
       "      <td>7</td>\n",
       "      <td>7</td>\n",
       "      <td>6</td>\n",
       "      <td>6</td>\n",
       "    </tr>\n",
       "  </tbody>\n",
       "</table>\n",
       "</div>"
      ],
      "text/plain": [
       "  ชื่อทีมที่รับการประเมิน  q1  q2  q3  q4\n",
       "0              SU Wake Up   7   7   7   7\n",
       "1            We Bear Bear   6   6   7   7\n",
       "2        ข้าวเหนียวมะม่วง   5   5   6   6\n",
       "3              ปังปุริเย่   6   6   6   5\n",
       "4                  ป่งป๊ง   6   6   6   6\n",
       "5  ศิลปะยืนยาวเวลานอนสั้น   5   7   7   7\n",
       "6           อะหรือ อะหรือ   7   6   6   6\n",
       "7     แม่หนูกกลัวโดเรม่อน   5   7   7   7\n",
       "8              โรตีไข่ดาว   7   7   6   6"
      ]
     },
     "execution_count": 13,
     "metadata": {},
     "output_type": "execute_result"
    }
   ],
   "source": [
    "sum_report =  pandasql.sqldf(sql)\n",
    "\n",
    "sum_report.head(20)"
   ]
  },
  {
   "cell_type": "code",
   "execution_count": 14,
   "metadata": {},
   "outputs": [],
   "source": [
    "sum_report['sum'] = sum_report.sum(axis=1)"
   ]
  },
  {
   "cell_type": "code",
   "execution_count": 15,
   "metadata": {},
   "outputs": [
    {
     "data": {
      "text/html": [
       "<div>\n",
       "<style scoped>\n",
       "    .dataframe tbody tr th:only-of-type {\n",
       "        vertical-align: middle;\n",
       "    }\n",
       "\n",
       "    .dataframe tbody tr th {\n",
       "        vertical-align: top;\n",
       "    }\n",
       "\n",
       "    .dataframe thead th {\n",
       "        text-align: right;\n",
       "    }\n",
       "</style>\n",
       "<table border=\"1\" class=\"dataframe\">\n",
       "  <thead>\n",
       "    <tr style=\"text-align: right;\">\n",
       "      <th></th>\n",
       "      <th>ชื่อทีมที่รับการประเมิน</th>\n",
       "      <th>q1</th>\n",
       "      <th>q2</th>\n",
       "      <th>q3</th>\n",
       "      <th>q4</th>\n",
       "      <th>sum</th>\n",
       "    </tr>\n",
       "  </thead>\n",
       "  <tbody>\n",
       "    <tr>\n",
       "      <th>0</th>\n",
       "      <td>SU Wake Up</td>\n",
       "      <td>7</td>\n",
       "      <td>7</td>\n",
       "      <td>7</td>\n",
       "      <td>7</td>\n",
       "      <td>28</td>\n",
       "    </tr>\n",
       "    <tr>\n",
       "      <th>1</th>\n",
       "      <td>We Bear Bear</td>\n",
       "      <td>6</td>\n",
       "      <td>6</td>\n",
       "      <td>7</td>\n",
       "      <td>7</td>\n",
       "      <td>26</td>\n",
       "    </tr>\n",
       "    <tr>\n",
       "      <th>2</th>\n",
       "      <td>ข้าวเหนียวมะม่วง</td>\n",
       "      <td>5</td>\n",
       "      <td>5</td>\n",
       "      <td>6</td>\n",
       "      <td>6</td>\n",
       "      <td>22</td>\n",
       "    </tr>\n",
       "    <tr>\n",
       "      <th>3</th>\n",
       "      <td>ปังปุริเย่</td>\n",
       "      <td>6</td>\n",
       "      <td>6</td>\n",
       "      <td>6</td>\n",
       "      <td>5</td>\n",
       "      <td>23</td>\n",
       "    </tr>\n",
       "    <tr>\n",
       "      <th>4</th>\n",
       "      <td>ป่งป๊ง</td>\n",
       "      <td>6</td>\n",
       "      <td>6</td>\n",
       "      <td>6</td>\n",
       "      <td>6</td>\n",
       "      <td>24</td>\n",
       "    </tr>\n",
       "    <tr>\n",
       "      <th>5</th>\n",
       "      <td>ศิลปะยืนยาวเวลานอนสั้น</td>\n",
       "      <td>5</td>\n",
       "      <td>7</td>\n",
       "      <td>7</td>\n",
       "      <td>7</td>\n",
       "      <td>26</td>\n",
       "    </tr>\n",
       "    <tr>\n",
       "      <th>6</th>\n",
       "      <td>อะหรือ อะหรือ</td>\n",
       "      <td>7</td>\n",
       "      <td>6</td>\n",
       "      <td>6</td>\n",
       "      <td>6</td>\n",
       "      <td>25</td>\n",
       "    </tr>\n",
       "    <tr>\n",
       "      <th>7</th>\n",
       "      <td>แม่หนูกกลัวโดเรม่อน</td>\n",
       "      <td>5</td>\n",
       "      <td>7</td>\n",
       "      <td>7</td>\n",
       "      <td>7</td>\n",
       "      <td>26</td>\n",
       "    </tr>\n",
       "    <tr>\n",
       "      <th>8</th>\n",
       "      <td>โรตีไข่ดาว</td>\n",
       "      <td>7</td>\n",
       "      <td>7</td>\n",
       "      <td>6</td>\n",
       "      <td>6</td>\n",
       "      <td>26</td>\n",
       "    </tr>\n",
       "  </tbody>\n",
       "</table>\n",
       "</div>"
      ],
      "text/plain": [
       "  ชื่อทีมที่รับการประเมิน  q1  q2  q3  q4  sum\n",
       "0              SU Wake Up   7   7   7   7   28\n",
       "1            We Bear Bear   6   6   7   7   26\n",
       "2        ข้าวเหนียวมะม่วง   5   5   6   6   22\n",
       "3              ปังปุริเย่   6   6   6   5   23\n",
       "4                  ป่งป๊ง   6   6   6   6   24\n",
       "5  ศิลปะยืนยาวเวลานอนสั้น   5   7   7   7   26\n",
       "6           อะหรือ อะหรือ   7   6   6   6   25\n",
       "7     แม่หนูกกลัวโดเรม่อน   5   7   7   7   26\n",
       "8              โรตีไข่ดาว   7   7   6   6   26"
      ]
     },
     "execution_count": 15,
     "metadata": {},
     "output_type": "execute_result"
    }
   ],
   "source": [
    "sum_report.head(20)"
   ]
  },
  {
   "cell_type": "code",
   "execution_count": null,
   "metadata": {},
   "outputs": [],
   "source": []
  }
 ],
 "metadata": {
  "kernelspec": {
   "display_name": "Python 3",
   "language": "python",
   "name": "python3"
  },
  "language_info": {
   "codemirror_mode": {
    "name": "ipython",
    "version": 3
   },
   "file_extension": ".py",
   "mimetype": "text/x-python",
   "name": "python",
   "nbconvert_exporter": "python",
   "pygments_lexer": "ipython3",
   "version": "3.9.0"
  }
 },
 "nbformat": 4,
 "nbformat_minor": 4
}
